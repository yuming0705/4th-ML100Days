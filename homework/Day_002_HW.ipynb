{
 "cells": [
  {
   "cell_type": "markdown",
   "metadata": {},
   "source": [
    "## [作業目標]\n",
    "了解機器學習適合應用的領域與範疇。"
   ]
  },
  {
   "cell_type": "markdown",
   "metadata": {},
   "source": [
    "## [作業重點]\n",
    "透過瞭解機器學習的運作方式，找出非常適用機器學習應用的領域及其原因"
   ]
  },
  {
   "cell_type": "markdown",
   "metadata": {},
   "source": [
    "## 作業\n",
    "請找出一個你認為機器學習可以發光發熱的領域並闡述原因? "
   ]
  },
  {
   "cell_type": "markdown",
   "metadata": {},
   "source": [
    "機器學習分成監督式學習、非監督式學習、強化學習、半監督式學習等。\n",
    "監督式學習先透過標註資料，使用有標記的資料進行學習，讓模型評估運用並找出準確性；非監督式學習將未明確指示處理方式的資料交予學習模型，訓練集資料無特定期望結果或正確答案，以求找出特定的資料結構，例如分群、異常檢測、關聯等；增強式學習式預測接下來要採取的最佳步驟，以獲得最終獎勵目標。\n",
    "\n",
    "保險業於理賠領域中不斷嘗試自動或快速理賠，端仰賴審核人員過往經驗判斷案件是否符合異常表徵，或屬於正常無異常情形下盡早賠付。或許可先透過標註的方式先區分區正常案件與異常案件，同時與理賠員收集眾多判斷依據，例如何種類型疾病或意外，針對不同生效時點險種會有何不種判斷標準。理賠員每日需耗費大多數時間在處理極大量無異常表徵案件，同時壓縮到處理異常件所需時程，藉由模型預測理賠案件是否符合clean case，異常件則再轉由人工審核，進而精進大多數人力時效。"
   ]
  }
 ],
 "metadata": {
  "kernelspec": {
   "display_name": "Python 3",
   "language": "python",
   "name": "python3"
  },
  "language_info": {
   "codemirror_mode": {
    "name": "ipython",
    "version": 3
   },
   "file_extension": ".py",
   "mimetype": "text/x-python",
   "name": "python",
   "nbconvert_exporter": "python",
   "pygments_lexer": "ipython3",
   "version": "3.7.0"
  }
 },
 "nbformat": 4,
 "nbformat_minor": 2
}
